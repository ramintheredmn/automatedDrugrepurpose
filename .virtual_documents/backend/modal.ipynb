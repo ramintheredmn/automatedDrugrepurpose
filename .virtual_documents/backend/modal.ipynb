import pandas as pd
import chembl_webresource_client.new_client as nc
from rdkit import Chem
from rdkit.Chem import PandasTools
#import requests
#from bs4 import BeautifulSoup
#from chembletouni import chemble_to_uni
#from findpdb import get_pdb_with_best_resolution, get_all_pdb_entries
from webscraping import webScrape
#from openbabel import run_openbabel
#from prody import *
#from pylab import *
#import nglview as vw



tr = nc.new_client.target



query = tr.search('jak').only('target_chembl_id', 'organism', 'pref_name')
query_pd = pd.DataFrame.from_dict(query)
query_pd = query_pd[query_pd['target_chembl_id'].apply(lambda x: len(str(x)) == 10)]
query_pd




target = query_pd.iloc[1]


target


mych = str(target['target_chembl_id'])


uni = chemble_to_uni(mych)


best_pdb_id, best_length, best_resolution, chains = get_pdb_with_best_resolution(uni)

print(best_pdb_id,"| res : ", best_resolution, chains)


pdbs = get_all_pdb_entries(uni)
df = pd.DataFrame(pdbs)
sorted_df = df.sort_values(by=['length', 'num_chains', 'resolution'], ascending=[False, False, True])
sorted_df['resolution'] = sorted_df['resolution'].astype(str)
sorted_df['length'] = sorted_df['length'].astype(str)
sorted_df['num_chains'] = sorted_df['num_chains'].astype(str)
print(sorted_df.head(),sorted_df.dtypes)


atoms, header = parsePDB(best_pdb_id, header=True)
list(header)


showProtein(atoms)
legend()


hetero = atoms.select('not water and not protein')
showProtein(hetero)


ligands = hetero.getHierView().iterResidues()
list_ligs = []
list_of_ligs = []
for i, residue in enumerate(ligands, start=1):
    list_of_ligs.append(i)
    list_ligs.append(str(residue))
    writePDB(f'{str(best_pdb_id)}_ligand_{i}', residue)


list_of_ligs
list_ligs


for i in list_of_ligs:
    run_openbabel(input_file=f'{str(best_pdb_id)}_ligand_{i}.pdb', input_format='pdb', output_file=f'{str(best_pdb_id)}_ligand_{i}.smi', output_format='smi')
    


smiles_l = []
for i in list_of_ligs:    
    with open(f'{str(best_pdb_id)}_ligand_{i}.smi', 'r') as file:
        content = file.read()
        smiles, filename = content.split()
        smiles_l.append(smiles)




smiles_l


smile_dict = dict(zip(list_ligs, smiles_l))
smile_dict


smile_dict.values()


data = webScrape("CN0C(=O)[C@H](CC2=CNC3=C2C=CC=C3Cl)NC1=O")
df_drugs = pd.DataFrame(data)
df_sorted = df_drugs.sort_values(by='Score', ascending=False)
pd.set_option('display.max_rows', 101)
df_sorted = df_sorted[df_sorted["Score"].astype(float)> 0.7]
df_sorted


ser_chem = nc.new_client.molecule
list_pref_names = []
list_of_structure = []
for i in df_sorted["Molecule_ID"].to_list():
    
    m1 = ser_chem.filter(chembl_id=i).only(['pref_name', 'molecule_structures'])
    list_pref_names.append(m1[0]['pref_name'])
    list_of_structure.append(m1[0]['molecule_structures']['canonical_smiles'])


drug_df = df_sorted[df_sorted['Phase'] == "CHEMBL_drug"]
pd.set_option('display.max_colwidth', None) 
PandasTools.AddMoleculeColumnToFrame(drug_df, smilesCol="SMILES_data")
drug_df


mol = Chem.MolFromSmiles('C[C@H]1C[C@H]2[C@@H]3CCC4=CC(=O)C=C[C@]4(C)[C@@]3(F)[C@@H](O)C[C@]2(C)[C@@]1(O)C(=O)COP(O)(O)=O')
mol = Chem.AddHs(mol)
AllChem.EmbedMolecule(mol)
AllChem.UFFOptimizeMolecule(mol)

# Export to PDB
pdb_output = Chem.MolToPDBBlock(mol)
with open("molecule.pdb", "w") as file:
    file.write(pdb_output)



