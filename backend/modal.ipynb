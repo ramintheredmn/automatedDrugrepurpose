{
 "cells": [
  {
   "cell_type": "code",
   "execution_count": 1,
   "metadata": {
    "ExecuteTime": {
     "end_time": "2023-10-22T11:08:33.893165610Z",
     "start_time": "2023-10-22T11:08:32.319229764Z"
    },
    "collapsed": true
   },
   "outputs": [
    {
     "name": "stderr",
     "output_type": "stream",
     "text": [
      "/home/raminrafiee/Desktop/personal/projects/automatedDrugrepurpose/.venv/lib/python3.10/site-packages/tqdm/auto.py:21: TqdmWarning: IProgress not found. Please update jupyter and ipywidgets. See https://ipywidgets.readthedocs.io/en/stable/user_install.html\n",
      "  from .autonotebook import tqdm as notebook_tqdm\n"
     ]
    }
   ],
   "source": [
    "import pandas as pd\n",
    "import chembl_webresource_client.new_client as nc\n",
    "from rdkit import Chem\n",
    "from rdkit.Chem import PandasTools, AllChem\n",
    "import requests\n",
    "from bs4 import BeautifulSoup\n",
    "from chembletouni import chemble_to_uni\n",
    "from findpdb import get_pdb_with_best_resolution, get_all_pdb_entries\n",
    "from webscraping import webScrape\n",
    "from openbabel import run_openbabel\n",
    "import pybel\n",
    "from prody import *\n",
    "from pylab import *"
   ]
  },
  {
   "cell_type": "code",
   "execution_count": 2,
   "metadata": {
    "ExecuteTime": {
     "end_time": "2023-10-22T11:12:49.090204867Z",
     "start_time": "2023-10-22T11:12:49.058254026Z"
    },
    "collapsed": false
   },
   "outputs": [],
   "source": [
    "tr = nc.new_client.target\n"
   ]
  },
  {
   "cell_type": "code",
   "execution_count": 21,
   "metadata": {
    "collapsed": false
   },
   "outputs": [
    {
     "data": {
      "text/html": [
       "<div>\n",
       "<style scoped>\n",
       "    .dataframe tbody tr th:only-of-type {\n",
       "        vertical-align: middle;\n",
       "    }\n",
       "\n",
       "    .dataframe tbody tr th {\n",
       "        vertical-align: top;\n",
       "    }\n",
       "\n",
       "    .dataframe thead th {\n",
       "        text-align: right;\n",
       "    }\n",
       "</style>\n",
       "<table border=\"1\" class=\"dataframe\">\n",
       "  <thead>\n",
       "    <tr style=\"text-align: right;\">\n",
       "      <th></th>\n",
       "      <th>organism</th>\n",
       "      <th>pref_name</th>\n",
       "      <th>target_chembl_id</th>\n",
       "    </tr>\n",
       "  </thead>\n",
       "  <tbody>\n",
       "    <tr>\n",
       "      <th>0</th>\n",
       "      <td>Homo sapiens</td>\n",
       "      <td>Janus Kinase (JAK)</td>\n",
       "      <td>CHEMBL2363062</td>\n",
       "    </tr>\n",
       "    <tr>\n",
       "      <th>1</th>\n",
       "      <td>Homo sapiens</td>\n",
       "      <td>JAK2/JAK3</td>\n",
       "      <td>CHEMBL4802035</td>\n",
       "    </tr>\n",
       "    <tr>\n",
       "      <th>2</th>\n",
       "      <td>Homo sapiens</td>\n",
       "      <td>Tyrosine-protein kinase JAK3</td>\n",
       "      <td>CHEMBL2148</td>\n",
       "    </tr>\n",
       "    <tr>\n",
       "      <th>3</th>\n",
       "      <td>Homo sapiens</td>\n",
       "      <td>JAK3/JAK1</td>\n",
       "      <td>CHEMBL3038491</td>\n",
       "    </tr>\n",
       "    <tr>\n",
       "      <th>4</th>\n",
       "      <td>Homo sapiens</td>\n",
       "      <td>JAK2/JAK1</td>\n",
       "      <td>CHEMBL3038492</td>\n",
       "    </tr>\n",
       "    <tr>\n",
       "      <th>5</th>\n",
       "      <td>Mus musculus</td>\n",
       "      <td>Tyrosine-protein kinase JAK1/JAK2</td>\n",
       "      <td>CHEMBL3885649</td>\n",
       "    </tr>\n",
       "    <tr>\n",
       "      <th>6</th>\n",
       "      <td>Mus musculus</td>\n",
       "      <td>Tyrosine-protein kinase JAK1/JAK3</td>\n",
       "      <td>CHEMBL3885650</td>\n",
       "    </tr>\n",
       "    <tr>\n",
       "      <th>7</th>\n",
       "      <td>Homo sapiens</td>\n",
       "      <td>Tyrosine-protein kinase JAK1</td>\n",
       "      <td>CHEMBL2835</td>\n",
       "    </tr>\n",
       "    <tr>\n",
       "      <th>8</th>\n",
       "      <td>Mus musculus</td>\n",
       "      <td>Tyrosine-protein kinase JAK1</td>\n",
       "      <td>CHEMBL2968</td>\n",
       "    </tr>\n",
       "    <tr>\n",
       "      <th>9</th>\n",
       "      <td>Homo sapiens</td>\n",
       "      <td>Tyrosine-protein kinase JAK2</td>\n",
       "      <td>CHEMBL2971</td>\n",
       "    </tr>\n",
       "    <tr>\n",
       "      <th>10</th>\n",
       "      <td>Mus musculus</td>\n",
       "      <td>Tyrosine-protein kinase JAK3</td>\n",
       "      <td>CHEMBL5250</td>\n",
       "    </tr>\n",
       "    <tr>\n",
       "      <th>11</th>\n",
       "      <td>Rattus norvegicus</td>\n",
       "      <td>Tyrosine-protein kinase JAK2</td>\n",
       "      <td>CHEMBL1075225</td>\n",
       "    </tr>\n",
       "    <tr>\n",
       "      <th>12</th>\n",
       "      <td>Mus musculus</td>\n",
       "      <td>Tyrosine-protein kinase JAK2</td>\n",
       "      <td>CHEMBL1649049</td>\n",
       "    </tr>\n",
       "    <tr>\n",
       "      <th>13</th>\n",
       "      <td>Homo sapiens</td>\n",
       "      <td>JAK1/JAK2/TYK2</td>\n",
       "      <td>CHEMBL3301390</td>\n",
       "    </tr>\n",
       "    <tr>\n",
       "      <th>14</th>\n",
       "      <td>Mus musculus</td>\n",
       "      <td>TYK2/JAK1/JAK2</td>\n",
       "      <td>CHEMBL3885642</td>\n",
       "    </tr>\n",
       "    <tr>\n",
       "      <th>15</th>\n",
       "      <td>Rattus norvegicus</td>\n",
       "      <td>Tyrosine-protein kinase JAK3</td>\n",
       "      <td>CHEMBL4295857</td>\n",
       "    </tr>\n",
       "    <tr>\n",
       "      <th>16</th>\n",
       "      <td>Homo sapiens</td>\n",
       "      <td>Cereblon/Tyrosine-protein kinase JAK2</td>\n",
       "      <td>CHEMBL4742263</td>\n",
       "    </tr>\n",
       "    <tr>\n",
       "      <th>17</th>\n",
       "      <td>Homo sapiens</td>\n",
       "      <td>Cereblon/JAK1</td>\n",
       "      <td>CHEMBL4742275</td>\n",
       "    </tr>\n",
       "    <tr>\n",
       "      <th>18</th>\n",
       "      <td>Homo sapiens</td>\n",
       "      <td>JAK1/TYK2</td>\n",
       "      <td>CHEMBL3301391</td>\n",
       "    </tr>\n",
       "    <tr>\n",
       "      <th>19</th>\n",
       "      <td>Homo sapiens</td>\n",
       "      <td>JAK2/TYK2</td>\n",
       "      <td>CHEMBL3301392</td>\n",
       "    </tr>\n",
       "    <tr>\n",
       "      <th>20</th>\n",
       "      <td>Mus musculus</td>\n",
       "      <td>JAK1/TYK2</td>\n",
       "      <td>CHEMBL4523618</td>\n",
       "    </tr>\n",
       "    <tr>\n",
       "      <th>21</th>\n",
       "      <td>Homo sapiens</td>\n",
       "      <td>Tyrosine-protein kinase TYK2</td>\n",
       "      <td>CHEMBL3553</td>\n",
       "    </tr>\n",
       "    <tr>\n",
       "      <th>22</th>\n",
       "      <td>Homo sapiens</td>\n",
       "      <td>Protein arginine N-methyltransferase 5</td>\n",
       "      <td>CHEMBL1795116</td>\n",
       "    </tr>\n",
       "    <tr>\n",
       "      <th>23</th>\n",
       "      <td>Mus musculus</td>\n",
       "      <td>Non-receptor tyrosine-protein kinase TYK2</td>\n",
       "      <td>CHEMBL2321619</td>\n",
       "    </tr>\n",
       "    <tr>\n",
       "      <th>24</th>\n",
       "      <td>Homo sapiens</td>\n",
       "      <td>E3 ubiquitin-protein ligase XIAP/JAK2</td>\n",
       "      <td>CHEMBL4630750</td>\n",
       "    </tr>\n",
       "    <tr>\n",
       "      <th>25</th>\n",
       "      <td>Homo sapiens</td>\n",
       "      <td>E3 ubiquitin-protein ligase XIAP/JAK1</td>\n",
       "      <td>CHEMBL4630751</td>\n",
       "    </tr>\n",
       "    <tr>\n",
       "      <th>26</th>\n",
       "      <td>Homo sapiens</td>\n",
       "      <td>VHL/Protein arginine N-methyltransferase 5</td>\n",
       "      <td>CHEMBL4748215</td>\n",
       "    </tr>\n",
       "    <tr>\n",
       "      <th>27</th>\n",
       "      <td>Homo sapiens</td>\n",
       "      <td>PRMT5/MEP50 complex</td>\n",
       "      <td>CHEMBL3137261</td>\n",
       "    </tr>\n",
       "  </tbody>\n",
       "</table>\n",
       "</div>"
      ],
      "text/plain": [
       "             organism                                   pref_name  \\\n",
       "0        Homo sapiens                          Janus Kinase (JAK)   \n",
       "1        Homo sapiens                                   JAK2/JAK3   \n",
       "2        Homo sapiens                Tyrosine-protein kinase JAK3   \n",
       "3        Homo sapiens                                   JAK3/JAK1   \n",
       "4        Homo sapiens                                   JAK2/JAK1   \n",
       "5        Mus musculus           Tyrosine-protein kinase JAK1/JAK2   \n",
       "6        Mus musculus           Tyrosine-protein kinase JAK1/JAK3   \n",
       "7        Homo sapiens                Tyrosine-protein kinase JAK1   \n",
       "8        Mus musculus                Tyrosine-protein kinase JAK1   \n",
       "9        Homo sapiens                Tyrosine-protein kinase JAK2   \n",
       "10       Mus musculus                Tyrosine-protein kinase JAK3   \n",
       "11  Rattus norvegicus                Tyrosine-protein kinase JAK2   \n",
       "12       Mus musculus                Tyrosine-protein kinase JAK2   \n",
       "13       Homo sapiens                              JAK1/JAK2/TYK2   \n",
       "14       Mus musculus                              TYK2/JAK1/JAK2   \n",
       "15  Rattus norvegicus                Tyrosine-protein kinase JAK3   \n",
       "16       Homo sapiens       Cereblon/Tyrosine-protein kinase JAK2   \n",
       "17       Homo sapiens                               Cereblon/JAK1   \n",
       "18       Homo sapiens                                   JAK1/TYK2   \n",
       "19       Homo sapiens                                   JAK2/TYK2   \n",
       "20       Mus musculus                                   JAK1/TYK2   \n",
       "21       Homo sapiens                Tyrosine-protein kinase TYK2   \n",
       "22       Homo sapiens      Protein arginine N-methyltransferase 5   \n",
       "23       Mus musculus   Non-receptor tyrosine-protein kinase TYK2   \n",
       "24       Homo sapiens       E3 ubiquitin-protein ligase XIAP/JAK2   \n",
       "25       Homo sapiens       E3 ubiquitin-protein ligase XIAP/JAK1   \n",
       "26       Homo sapiens  VHL/Protein arginine N-methyltransferase 5   \n",
       "27       Homo sapiens                         PRMT5/MEP50 complex   \n",
       "\n",
       "   target_chembl_id  \n",
       "0     CHEMBL2363062  \n",
       "1     CHEMBL4802035  \n",
       "2        CHEMBL2148  \n",
       "3     CHEMBL3038491  \n",
       "4     CHEMBL3038492  \n",
       "5     CHEMBL3885649  \n",
       "6     CHEMBL3885650  \n",
       "7        CHEMBL2835  \n",
       "8        CHEMBL2968  \n",
       "9        CHEMBL2971  \n",
       "10       CHEMBL5250  \n",
       "11    CHEMBL1075225  \n",
       "12    CHEMBL1649049  \n",
       "13    CHEMBL3301390  \n",
       "14    CHEMBL3885642  \n",
       "15    CHEMBL4295857  \n",
       "16    CHEMBL4742263  \n",
       "17    CHEMBL4742275  \n",
       "18    CHEMBL3301391  \n",
       "19    CHEMBL3301392  \n",
       "20    CHEMBL4523618  \n",
       "21       CHEMBL3553  \n",
       "22    CHEMBL1795116  \n",
       "23    CHEMBL2321619  \n",
       "24    CHEMBL4630750  \n",
       "25    CHEMBL4630751  \n",
       "26    CHEMBL4748215  \n",
       "27    CHEMBL3137261  "
      ]
     },
     "execution_count": 21,
     "metadata": {},
     "output_type": "execute_result"
    }
   ],
   "source": [
    "query = tr.search('jak').only('target_chembl_id', 'organism', 'pref_name')\n",
    "query_pd = pd.DataFrame.from_dict(query)\n",
    "query_pd\n",
    "\n"
   ]
  },
  {
   "cell_type": "code",
   "execution_count": 32,
   "metadata": {},
   "outputs": [],
   "source": [
    "target = query_pd.iloc[2]"
   ]
  },
  {
   "cell_type": "code",
   "execution_count": 33,
   "metadata": {},
   "outputs": [
    {
     "data": {
      "text/plain": [
       "organism                            Homo sapiens\n",
       "pref_name           Tyrosine-protein kinase JAK3\n",
       "target_chembl_id                      CHEMBL2148\n",
       "Name: 2, dtype: object"
      ]
     },
     "execution_count": 33,
     "metadata": {},
     "output_type": "execute_result"
    }
   ],
   "source": [
    "target"
   ]
  },
  {
   "cell_type": "code",
   "execution_count": 34,
   "metadata": {},
   "outputs": [],
   "source": [
    "mych = str(target['target_chembl_id'])"
   ]
  },
  {
   "cell_type": "code",
   "execution_count": 35,
   "metadata": {},
   "outputs": [],
   "source": [
    "uni = chemble_to_uni(mych)"
   ]
  },
  {
   "cell_type": "code",
   "execution_count": 15,
   "metadata": {},
   "outputs": [
    {
     "ename": "ConnectionError",
     "evalue": "HTTPSConnectionPool(host='www.uniprot.org', port=443): Max retries exceeded with url: /uniprot/P00519.txt (Caused by NameResolutionError(\"<urllib3.connection.HTTPSConnection object at 0x7f369685fc70>: Failed to resolve 'www.uniprot.org' ([Errno -2] Name or service not known)\"))",
     "output_type": "error",
     "traceback": [
      "\u001b[0;31m---------------------------------------------------------------------------\u001b[0m",
      "\u001b[0;31mgaierror\u001b[0m                                  Traceback (most recent call last)",
      "File \u001b[0;32m~/Desktop/personal/projects/automatedDrugrepurpose/.venv/lib/python3.10/site-packages/urllib3/connection.py:203\u001b[0m, in \u001b[0;36mHTTPConnection._new_conn\u001b[0;34m(self)\u001b[0m\n\u001b[1;32m    202\u001b[0m \u001b[39mtry\u001b[39;00m:\n\u001b[0;32m--> 203\u001b[0m     sock \u001b[39m=\u001b[39m connection\u001b[39m.\u001b[39;49mcreate_connection(\n\u001b[1;32m    204\u001b[0m         (\u001b[39mself\u001b[39;49m\u001b[39m.\u001b[39;49m_dns_host, \u001b[39mself\u001b[39;49m\u001b[39m.\u001b[39;49mport),\n\u001b[1;32m    205\u001b[0m         \u001b[39mself\u001b[39;49m\u001b[39m.\u001b[39;49mtimeout,\n\u001b[1;32m    206\u001b[0m         source_address\u001b[39m=\u001b[39;49m\u001b[39mself\u001b[39;49m\u001b[39m.\u001b[39;49msource_address,\n\u001b[1;32m    207\u001b[0m         socket_options\u001b[39m=\u001b[39;49m\u001b[39mself\u001b[39;49m\u001b[39m.\u001b[39;49msocket_options,\n\u001b[1;32m    208\u001b[0m     )\n\u001b[1;32m    209\u001b[0m \u001b[39mexcept\u001b[39;00m socket\u001b[39m.\u001b[39mgaierror \u001b[39mas\u001b[39;00m e:\n",
      "File \u001b[0;32m~/Desktop/personal/projects/automatedDrugrepurpose/.venv/lib/python3.10/site-packages/urllib3/util/connection.py:60\u001b[0m, in \u001b[0;36mcreate_connection\u001b[0;34m(address, timeout, source_address, socket_options)\u001b[0m\n\u001b[1;32m     58\u001b[0m     \u001b[39mraise\u001b[39;00m LocationParseError(\u001b[39mf\u001b[39m\u001b[39m\"\u001b[39m\u001b[39m'\u001b[39m\u001b[39m{\u001b[39;00mhost\u001b[39m}\u001b[39;00m\u001b[39m'\u001b[39m\u001b[39m, label empty or too long\u001b[39m\u001b[39m\"\u001b[39m) \u001b[39mfrom\u001b[39;00m \u001b[39mNone\u001b[39;00m\n\u001b[0;32m---> 60\u001b[0m \u001b[39mfor\u001b[39;00m res \u001b[39min\u001b[39;00m socket\u001b[39m.\u001b[39;49mgetaddrinfo(host, port, family, socket\u001b[39m.\u001b[39;49mSOCK_STREAM):\n\u001b[1;32m     61\u001b[0m     af, socktype, proto, canonname, sa \u001b[39m=\u001b[39m res\n",
      "File \u001b[0;32m/usr/lib/python3.10/socket.py:955\u001b[0m, in \u001b[0;36mgetaddrinfo\u001b[0;34m(host, port, family, type, proto, flags)\u001b[0m\n\u001b[1;32m    954\u001b[0m addrlist \u001b[39m=\u001b[39m []\n\u001b[0;32m--> 955\u001b[0m \u001b[39mfor\u001b[39;00m res \u001b[39min\u001b[39;00m _socket\u001b[39m.\u001b[39;49mgetaddrinfo(host, port, family, \u001b[39mtype\u001b[39;49m, proto, flags):\n\u001b[1;32m    956\u001b[0m     af, socktype, proto, canonname, sa \u001b[39m=\u001b[39m res\n",
      "\u001b[0;31mgaierror\u001b[0m: [Errno -2] Name or service not known",
      "\nThe above exception was the direct cause of the following exception:\n",
      "\u001b[0;31mNameResolutionError\u001b[0m                       Traceback (most recent call last)",
      "File \u001b[0;32m~/Desktop/personal/projects/automatedDrugrepurpose/.venv/lib/python3.10/site-packages/urllib3/connectionpool.py:791\u001b[0m, in \u001b[0;36mHTTPConnectionPool.urlopen\u001b[0;34m(self, method, url, body, headers, retries, redirect, assert_same_host, timeout, pool_timeout, release_conn, chunked, body_pos, preload_content, decode_content, **response_kw)\u001b[0m\n\u001b[1;32m    790\u001b[0m \u001b[39m# Make the request on the HTTPConnection object\u001b[39;00m\n\u001b[0;32m--> 791\u001b[0m response \u001b[39m=\u001b[39m \u001b[39mself\u001b[39;49m\u001b[39m.\u001b[39;49m_make_request(\n\u001b[1;32m    792\u001b[0m     conn,\n\u001b[1;32m    793\u001b[0m     method,\n\u001b[1;32m    794\u001b[0m     url,\n\u001b[1;32m    795\u001b[0m     timeout\u001b[39m=\u001b[39;49mtimeout_obj,\n\u001b[1;32m    796\u001b[0m     body\u001b[39m=\u001b[39;49mbody,\n\u001b[1;32m    797\u001b[0m     headers\u001b[39m=\u001b[39;49mheaders,\n\u001b[1;32m    798\u001b[0m     chunked\u001b[39m=\u001b[39;49mchunked,\n\u001b[1;32m    799\u001b[0m     retries\u001b[39m=\u001b[39;49mretries,\n\u001b[1;32m    800\u001b[0m     response_conn\u001b[39m=\u001b[39;49mresponse_conn,\n\u001b[1;32m    801\u001b[0m     preload_content\u001b[39m=\u001b[39;49mpreload_content,\n\u001b[1;32m    802\u001b[0m     decode_content\u001b[39m=\u001b[39;49mdecode_content,\n\u001b[1;32m    803\u001b[0m     \u001b[39m*\u001b[39;49m\u001b[39m*\u001b[39;49mresponse_kw,\n\u001b[1;32m    804\u001b[0m )\n\u001b[1;32m    806\u001b[0m \u001b[39m# Everything went great!\u001b[39;00m\n",
      "File \u001b[0;32m~/Desktop/personal/projects/automatedDrugrepurpose/.venv/lib/python3.10/site-packages/urllib3/connectionpool.py:492\u001b[0m, in \u001b[0;36mHTTPConnectionPool._make_request\u001b[0;34m(self, conn, method, url, body, headers, retries, timeout, chunked, response_conn, preload_content, decode_content, enforce_content_length)\u001b[0m\n\u001b[1;32m    491\u001b[0m         new_e \u001b[39m=\u001b[39m _wrap_proxy_error(new_e, conn\u001b[39m.\u001b[39mproxy\u001b[39m.\u001b[39mscheme)\n\u001b[0;32m--> 492\u001b[0m     \u001b[39mraise\u001b[39;00m new_e\n\u001b[1;32m    494\u001b[0m \u001b[39m# conn.request() calls http.client.*.request, not the method in\u001b[39;00m\n\u001b[1;32m    495\u001b[0m \u001b[39m# urllib3.request. It also calls makefile (recv) on the socket.\u001b[39;00m\n",
      "File \u001b[0;32m~/Desktop/personal/projects/automatedDrugrepurpose/.venv/lib/python3.10/site-packages/urllib3/connectionpool.py:468\u001b[0m, in \u001b[0;36mHTTPConnectionPool._make_request\u001b[0;34m(self, conn, method, url, body, headers, retries, timeout, chunked, response_conn, preload_content, decode_content, enforce_content_length)\u001b[0m\n\u001b[1;32m    467\u001b[0m \u001b[39mtry\u001b[39;00m:\n\u001b[0;32m--> 468\u001b[0m     \u001b[39mself\u001b[39;49m\u001b[39m.\u001b[39;49m_validate_conn(conn)\n\u001b[1;32m    469\u001b[0m \u001b[39mexcept\u001b[39;00m (SocketTimeout, BaseSSLError) \u001b[39mas\u001b[39;00m e:\n",
      "File \u001b[0;32m~/Desktop/personal/projects/automatedDrugrepurpose/.venv/lib/python3.10/site-packages/urllib3/connectionpool.py:1097\u001b[0m, in \u001b[0;36mHTTPSConnectionPool._validate_conn\u001b[0;34m(self, conn)\u001b[0m\n\u001b[1;32m   1096\u001b[0m \u001b[39mif\u001b[39;00m conn\u001b[39m.\u001b[39mis_closed:\n\u001b[0;32m-> 1097\u001b[0m     conn\u001b[39m.\u001b[39;49mconnect()\n\u001b[1;32m   1099\u001b[0m \u001b[39mif\u001b[39;00m \u001b[39mnot\u001b[39;00m conn\u001b[39m.\u001b[39mis_verified:\n",
      "File \u001b[0;32m~/Desktop/personal/projects/automatedDrugrepurpose/.venv/lib/python3.10/site-packages/urllib3/connection.py:611\u001b[0m, in \u001b[0;36mHTTPSConnection.connect\u001b[0;34m(self)\u001b[0m\n\u001b[1;32m    610\u001b[0m sock: socket\u001b[39m.\u001b[39msocket \u001b[39m|\u001b[39m ssl\u001b[39m.\u001b[39mSSLSocket\n\u001b[0;32m--> 611\u001b[0m \u001b[39mself\u001b[39m\u001b[39m.\u001b[39msock \u001b[39m=\u001b[39m sock \u001b[39m=\u001b[39m \u001b[39mself\u001b[39;49m\u001b[39m.\u001b[39;49m_new_conn()\n\u001b[1;32m    612\u001b[0m server_hostname: \u001b[39mstr\u001b[39m \u001b[39m=\u001b[39m \u001b[39mself\u001b[39m\u001b[39m.\u001b[39mhost\n",
      "File \u001b[0;32m~/Desktop/personal/projects/automatedDrugrepurpose/.venv/lib/python3.10/site-packages/urllib3/connection.py:210\u001b[0m, in \u001b[0;36mHTTPConnection._new_conn\u001b[0;34m(self)\u001b[0m\n\u001b[1;32m    209\u001b[0m \u001b[39mexcept\u001b[39;00m socket\u001b[39m.\u001b[39mgaierror \u001b[39mas\u001b[39;00m e:\n\u001b[0;32m--> 210\u001b[0m     \u001b[39mraise\u001b[39;00m NameResolutionError(\u001b[39mself\u001b[39m\u001b[39m.\u001b[39mhost, \u001b[39mself\u001b[39m, e) \u001b[39mfrom\u001b[39;00m \u001b[39me\u001b[39;00m\n\u001b[1;32m    211\u001b[0m \u001b[39mexcept\u001b[39;00m SocketTimeout \u001b[39mas\u001b[39;00m e:\n",
      "\u001b[0;31mNameResolutionError\u001b[0m: <urllib3.connection.HTTPSConnection object at 0x7f369685fc70>: Failed to resolve 'www.uniprot.org' ([Errno -2] Name or service not known)",
      "\nThe above exception was the direct cause of the following exception:\n",
      "\u001b[0;31mMaxRetryError\u001b[0m                             Traceback (most recent call last)",
      "File \u001b[0;32m~/Desktop/personal/projects/automatedDrugrepurpose/.venv/lib/python3.10/site-packages/requests/adapters.py:486\u001b[0m, in \u001b[0;36mHTTPAdapter.send\u001b[0;34m(self, request, stream, timeout, verify, cert, proxies)\u001b[0m\n\u001b[1;32m    485\u001b[0m \u001b[39mtry\u001b[39;00m:\n\u001b[0;32m--> 486\u001b[0m     resp \u001b[39m=\u001b[39m conn\u001b[39m.\u001b[39;49murlopen(\n\u001b[1;32m    487\u001b[0m         method\u001b[39m=\u001b[39;49mrequest\u001b[39m.\u001b[39;49mmethod,\n\u001b[1;32m    488\u001b[0m         url\u001b[39m=\u001b[39;49murl,\n\u001b[1;32m    489\u001b[0m         body\u001b[39m=\u001b[39;49mrequest\u001b[39m.\u001b[39;49mbody,\n\u001b[1;32m    490\u001b[0m         headers\u001b[39m=\u001b[39;49mrequest\u001b[39m.\u001b[39;49mheaders,\n\u001b[1;32m    491\u001b[0m         redirect\u001b[39m=\u001b[39;49m\u001b[39mFalse\u001b[39;49;00m,\n\u001b[1;32m    492\u001b[0m         assert_same_host\u001b[39m=\u001b[39;49m\u001b[39mFalse\u001b[39;49;00m,\n\u001b[1;32m    493\u001b[0m         preload_content\u001b[39m=\u001b[39;49m\u001b[39mFalse\u001b[39;49;00m,\n\u001b[1;32m    494\u001b[0m         decode_content\u001b[39m=\u001b[39;49m\u001b[39mFalse\u001b[39;49;00m,\n\u001b[1;32m    495\u001b[0m         retries\u001b[39m=\u001b[39;49m\u001b[39mself\u001b[39;49m\u001b[39m.\u001b[39;49mmax_retries,\n\u001b[1;32m    496\u001b[0m         timeout\u001b[39m=\u001b[39;49mtimeout,\n\u001b[1;32m    497\u001b[0m         chunked\u001b[39m=\u001b[39;49mchunked,\n\u001b[1;32m    498\u001b[0m     )\n\u001b[1;32m    500\u001b[0m \u001b[39mexcept\u001b[39;00m (ProtocolError, \u001b[39mOSError\u001b[39;00m) \u001b[39mas\u001b[39;00m err:\n",
      "File \u001b[0;32m~/Desktop/personal/projects/automatedDrugrepurpose/.venv/lib/python3.10/site-packages/urllib3/connectionpool.py:845\u001b[0m, in \u001b[0;36mHTTPConnectionPool.urlopen\u001b[0;34m(self, method, url, body, headers, retries, redirect, assert_same_host, timeout, pool_timeout, release_conn, chunked, body_pos, preload_content, decode_content, **response_kw)\u001b[0m\n\u001b[1;32m    843\u001b[0m     new_e \u001b[39m=\u001b[39m ProtocolError(\u001b[39m\"\u001b[39m\u001b[39mConnection aborted.\u001b[39m\u001b[39m\"\u001b[39m, new_e)\n\u001b[0;32m--> 845\u001b[0m retries \u001b[39m=\u001b[39m retries\u001b[39m.\u001b[39;49mincrement(\n\u001b[1;32m    846\u001b[0m     method, url, error\u001b[39m=\u001b[39;49mnew_e, _pool\u001b[39m=\u001b[39;49m\u001b[39mself\u001b[39;49m, _stacktrace\u001b[39m=\u001b[39;49msys\u001b[39m.\u001b[39;49mexc_info()[\u001b[39m2\u001b[39;49m]\n\u001b[1;32m    847\u001b[0m )\n\u001b[1;32m    848\u001b[0m retries\u001b[39m.\u001b[39msleep()\n",
      "File \u001b[0;32m~/Desktop/personal/projects/automatedDrugrepurpose/.venv/lib/python3.10/site-packages/urllib3/util/retry.py:515\u001b[0m, in \u001b[0;36mRetry.increment\u001b[0;34m(self, method, url, response, error, _pool, _stacktrace)\u001b[0m\n\u001b[1;32m    514\u001b[0m     reason \u001b[39m=\u001b[39m error \u001b[39mor\u001b[39;00m ResponseError(cause)\n\u001b[0;32m--> 515\u001b[0m     \u001b[39mraise\u001b[39;00m MaxRetryError(_pool, url, reason) \u001b[39mfrom\u001b[39;00m \u001b[39mreason\u001b[39;00m  \u001b[39m# type: ignore[arg-type]\u001b[39;00m\n\u001b[1;32m    517\u001b[0m log\u001b[39m.\u001b[39mdebug(\u001b[39m\"\u001b[39m\u001b[39mIncremented Retry for (url=\u001b[39m\u001b[39m'\u001b[39m\u001b[39m%s\u001b[39;00m\u001b[39m'\u001b[39m\u001b[39m): \u001b[39m\u001b[39m%r\u001b[39;00m\u001b[39m\"\u001b[39m, url, new_retry)\n",
      "\u001b[0;31mMaxRetryError\u001b[0m: HTTPSConnectionPool(host='www.uniprot.org', port=443): Max retries exceeded with url: /uniprot/P00519.txt (Caused by NameResolutionError(\"<urllib3.connection.HTTPSConnection object at 0x7f369685fc70>: Failed to resolve 'www.uniprot.org' ([Errno -2] Name or service not known)\"))",
      "\nDuring handling of the above exception, another exception occurred:\n",
      "\u001b[0;31mConnectionError\u001b[0m                           Traceback (most recent call last)",
      "\u001b[1;32m/home/raminrafiee/Desktop/personal/projects/automatedDrugrepurpose/backend/modal.ipynb Cell 8\u001b[0m line \u001b[0;36m1\n\u001b[0;32m----> <a href='vscode-notebook-cell:/home/raminrafiee/Desktop/personal/projects/automatedDrugrepurpose/backend/modal.ipynb#X10sZmlsZQ%3D%3D?line=0'>1</a>\u001b[0m best_pdb_id, best_length, best_resolution, chains \u001b[39m=\u001b[39m get_pdb_with_best_resolution(uni)\n\u001b[1;32m      <a href='vscode-notebook-cell:/home/raminrafiee/Desktop/personal/projects/automatedDrugrepurpose/backend/modal.ipynb#X10sZmlsZQ%3D%3D?line=2'>3</a>\u001b[0m \u001b[39mprint\u001b[39m(best_pdb_id,\u001b[39m\"\u001b[39m\u001b[39m| res : \u001b[39m\u001b[39m\"\u001b[39m, best_resolution, chains)\n",
      "File \u001b[0;32m~/Desktop/personal/projects/automatedDrugrepurpose/backend/findpdb.py:11\u001b[0m, in \u001b[0;36mget_pdb_with_best_resolution\u001b[0;34m(uniprot_id)\u001b[0m\n\u001b[1;32m      9\u001b[0m \u001b[39mdef\u001b[39;00m \u001b[39mget_pdb_with_best_resolution\u001b[39m(uniprot_id):\n\u001b[1;32m     10\u001b[0m     url \u001b[39m=\u001b[39m \u001b[39mf\u001b[39m\u001b[39m\"\u001b[39m\u001b[39mhttps://www.uniprot.org/uniprot/\u001b[39m\u001b[39m{\u001b[39;00muniprot_id\u001b[39m}\u001b[39;00m\u001b[39m.txt\u001b[39m\u001b[39m\"\u001b[39m\n\u001b[0;32m---> 11\u001b[0m     response \u001b[39m=\u001b[39m requests\u001b[39m.\u001b[39;49mget(url)\n\u001b[1;32m     13\u001b[0m     \u001b[39mif\u001b[39;00m response\u001b[39m.\u001b[39mok:\n\u001b[1;32m     14\u001b[0m         data_lines \u001b[39m=\u001b[39m response\u001b[39m.\u001b[39mtext\u001b[39m.\u001b[39msplitlines()\n",
      "File \u001b[0;32m~/Desktop/personal/projects/automatedDrugrepurpose/.venv/lib/python3.10/site-packages/requests/api.py:73\u001b[0m, in \u001b[0;36mget\u001b[0;34m(url, params, **kwargs)\u001b[0m\n\u001b[1;32m     62\u001b[0m \u001b[39mdef\u001b[39;00m \u001b[39mget\u001b[39m(url, params\u001b[39m=\u001b[39m\u001b[39mNone\u001b[39;00m, \u001b[39m*\u001b[39m\u001b[39m*\u001b[39mkwargs):\n\u001b[1;32m     63\u001b[0m \u001b[39m    \u001b[39m\u001b[39mr\u001b[39m\u001b[39m\"\"\"Sends a GET request.\u001b[39;00m\n\u001b[1;32m     64\u001b[0m \n\u001b[1;32m     65\u001b[0m \u001b[39m    :param url: URL for the new :class:`Request` object.\u001b[39;00m\n\u001b[0;32m   (...)\u001b[0m\n\u001b[1;32m     70\u001b[0m \u001b[39m    :rtype: requests.Response\u001b[39;00m\n\u001b[1;32m     71\u001b[0m \u001b[39m    \"\"\"\u001b[39;00m\n\u001b[0;32m---> 73\u001b[0m     \u001b[39mreturn\u001b[39;00m request(\u001b[39m\"\u001b[39;49m\u001b[39mget\u001b[39;49m\u001b[39m\"\u001b[39;49m, url, params\u001b[39m=\u001b[39;49mparams, \u001b[39m*\u001b[39;49m\u001b[39m*\u001b[39;49mkwargs)\n",
      "File \u001b[0;32m~/Desktop/personal/projects/automatedDrugrepurpose/.venv/lib/python3.10/site-packages/requests/api.py:59\u001b[0m, in \u001b[0;36mrequest\u001b[0;34m(method, url, **kwargs)\u001b[0m\n\u001b[1;32m     55\u001b[0m \u001b[39m# By using the 'with' statement we are sure the session is closed, thus we\u001b[39;00m\n\u001b[1;32m     56\u001b[0m \u001b[39m# avoid leaving sockets open which can trigger a ResourceWarning in some\u001b[39;00m\n\u001b[1;32m     57\u001b[0m \u001b[39m# cases, and look like a memory leak in others.\u001b[39;00m\n\u001b[1;32m     58\u001b[0m \u001b[39mwith\u001b[39;00m sessions\u001b[39m.\u001b[39mSession() \u001b[39mas\u001b[39;00m session:\n\u001b[0;32m---> 59\u001b[0m     \u001b[39mreturn\u001b[39;00m session\u001b[39m.\u001b[39;49mrequest(method\u001b[39m=\u001b[39;49mmethod, url\u001b[39m=\u001b[39;49murl, \u001b[39m*\u001b[39;49m\u001b[39m*\u001b[39;49mkwargs)\n",
      "File \u001b[0;32m~/Desktop/personal/projects/automatedDrugrepurpose/.venv/lib/python3.10/site-packages/requests/sessions.py:589\u001b[0m, in \u001b[0;36mSession.request\u001b[0;34m(self, method, url, params, data, headers, cookies, files, auth, timeout, allow_redirects, proxies, hooks, stream, verify, cert, json)\u001b[0m\n\u001b[1;32m    584\u001b[0m send_kwargs \u001b[39m=\u001b[39m {\n\u001b[1;32m    585\u001b[0m     \u001b[39m\"\u001b[39m\u001b[39mtimeout\u001b[39m\u001b[39m\"\u001b[39m: timeout,\n\u001b[1;32m    586\u001b[0m     \u001b[39m\"\u001b[39m\u001b[39mallow_redirects\u001b[39m\u001b[39m\"\u001b[39m: allow_redirects,\n\u001b[1;32m    587\u001b[0m }\n\u001b[1;32m    588\u001b[0m send_kwargs\u001b[39m.\u001b[39mupdate(settings)\n\u001b[0;32m--> 589\u001b[0m resp \u001b[39m=\u001b[39m \u001b[39mself\u001b[39;49m\u001b[39m.\u001b[39;49msend(prep, \u001b[39m*\u001b[39;49m\u001b[39m*\u001b[39;49msend_kwargs)\n\u001b[1;32m    591\u001b[0m \u001b[39mreturn\u001b[39;00m resp\n",
      "File \u001b[0;32m~/Desktop/personal/projects/automatedDrugrepurpose/.venv/lib/python3.10/site-packages/requests/sessions.py:703\u001b[0m, in \u001b[0;36mSession.send\u001b[0;34m(self, request, **kwargs)\u001b[0m\n\u001b[1;32m    700\u001b[0m start \u001b[39m=\u001b[39m preferred_clock()\n\u001b[1;32m    702\u001b[0m \u001b[39m# Send the request\u001b[39;00m\n\u001b[0;32m--> 703\u001b[0m r \u001b[39m=\u001b[39m adapter\u001b[39m.\u001b[39;49msend(request, \u001b[39m*\u001b[39;49m\u001b[39m*\u001b[39;49mkwargs)\n\u001b[1;32m    705\u001b[0m \u001b[39m# Total elapsed time of the request (approximately)\u001b[39;00m\n\u001b[1;32m    706\u001b[0m elapsed \u001b[39m=\u001b[39m preferred_clock() \u001b[39m-\u001b[39m start\n",
      "File \u001b[0;32m~/Desktop/personal/projects/automatedDrugrepurpose/.venv/lib/python3.10/site-packages/requests/adapters.py:519\u001b[0m, in \u001b[0;36mHTTPAdapter.send\u001b[0;34m(self, request, stream, timeout, verify, cert, proxies)\u001b[0m\n\u001b[1;32m    515\u001b[0m     \u001b[39mif\u001b[39;00m \u001b[39misinstance\u001b[39m(e\u001b[39m.\u001b[39mreason, _SSLError):\n\u001b[1;32m    516\u001b[0m         \u001b[39m# This branch is for urllib3 v1.22 and later.\u001b[39;00m\n\u001b[1;32m    517\u001b[0m         \u001b[39mraise\u001b[39;00m SSLError(e, request\u001b[39m=\u001b[39mrequest)\n\u001b[0;32m--> 519\u001b[0m     \u001b[39mraise\u001b[39;00m \u001b[39mConnectionError\u001b[39;00m(e, request\u001b[39m=\u001b[39mrequest)\n\u001b[1;32m    521\u001b[0m \u001b[39mexcept\u001b[39;00m ClosedPoolError \u001b[39mas\u001b[39;00m e:\n\u001b[1;32m    522\u001b[0m     \u001b[39mraise\u001b[39;00m \u001b[39mConnectionError\u001b[39;00m(e, request\u001b[39m=\u001b[39mrequest)\n",
      "\u001b[0;31mConnectionError\u001b[0m: HTTPSConnectionPool(host='www.uniprot.org', port=443): Max retries exceeded with url: /uniprot/P00519.txt (Caused by NameResolutionError(\"<urllib3.connection.HTTPSConnection object at 0x7f369685fc70>: Failed to resolve 'www.uniprot.org' ([Errno -2] Name or service not known)\"))"
     ]
    }
   ],
   "source": [
    "best_pdb_id, best_length, best_resolution, chains = get_pdb_with_best_resolution(uni)\n",
    "\n",
    "print(best_pdb_id,\"| res : \", best_resolution, chains)"
   ]
  },
  {
   "cell_type": "code",
   "execution_count": 27,
   "metadata": {},
   "outputs": [
    {
     "name": "stdout",
     "output_type": "stream",
     "text": [
      "   pdb_id method resolution length num_chains\n",
      "2    3LXL  X-ray       1.74    319          1\n",
      "38   7Q6H  X-ray       1.75    319          1\n",
      "1    3LXK  X-ray        2.0    319          1\n",
      "6    4HVD  X-ray       1.85    314          1\n",
      "10   4I6Q  X-ray       1.85    314          1 pdb_id        object\n",
      "method        object\n",
      "resolution    object\n",
      "length        object\n",
      "num_chains    object\n",
      "dtype: object\n"
     ]
    }
   ],
   "source": [
    "pdbs = get_all_pdb_entries(uni)\n",
    "df = pd.DataFrame(pdbs)\n",
    "sorted_df = df.sort_values(by=['length', 'num_chains', 'resolution'], ascending=[False, False, True])\n",
    "sorted_df['resolution'] = sorted_df['resolution'].astype(str)\n",
    "sorted_df['length'] = sorted_df['length'].astype(str)\n",
    "sorted_df['num_chains'] = sorted_df['num_chains'].astype(str)\n",
    "print(sorted_df.head(),sorted_df.dtypes)"
   ]
  },
  {
   "cell_type": "code",
   "execution_count": 10,
   "metadata": {},
   "outputs": [
    {
     "name": "stderr",
     "output_type": "stream",
     "text": [
      "@> Connecting wwPDB FTP server RCSB PDB (USA).\n",
      "@> 3sxs downloaded (3sxs.pdb.gz)\n",
      "@> PDB download via FTP completed (1 downloaded, 0 failed).\n",
      "@> 2351 atoms and 1 coordinate set(s) were parsed in 0.03s.\n"
     ]
    },
    {
     "data": {
      "text/plain": [
       "['helix',\n",
       " 'helix_range',\n",
       " 'sheet',\n",
       " 'sheet_range',\n",
       " 'chemicals',\n",
       " 'polymers',\n",
       " 'reference',\n",
       " 'resolution',\n",
       " 'biomoltrans',\n",
       " 'version',\n",
       " 'deposition_date',\n",
       " 'classification',\n",
       " 'identifier',\n",
       " 'title',\n",
       " 'experiment',\n",
       " 'authors',\n",
       " 'space_group',\n",
       " 'related_entries',\n",
       " 'PP2',\n",
       " 'A']"
      ]
     },
     "execution_count": 10,
     "metadata": {},
     "output_type": "execute_result"
    }
   ],
   "source": [
    "atoms, header = parsePDB(best_pdb_id, header=True)\n",
    "list(header)"
   ]
  },
  {
   "cell_type": "code",
   "execution_count": 11,
   "metadata": {},
   "outputs": [
    {
     "data": {
      "text/plain": [
       "<matplotlib.legend.Legend at 0x7f99ea82a3e0>"
      ]
     },
     "execution_count": 11,
     "metadata": {},
     "output_type": "execute_result"
    },
    {
     "data": {
      "image/png": "[encoded data removed]",
      "text/plain": [
       "<Figure size 640x480 with 1 Axes>"
      ]
     },
     "metadata": {},
     "output_type": "display_data"
    }
   ],
   "source": [
    "showProtein(atoms)\n",
    "legend()"
   ]
  },
  {
   "cell_type": "code",
   "execution_count": 12,
   "metadata": {},
   "outputs": [
    {
     "data": {
      "text/plain": [
       "<Axes3D: xlabel='x', ylabel='y', zlabel='z'>"
      ]
     },
     "execution_count": 12,
     "metadata": {},
     "output_type": "execute_result"
    },
    {
     "data": {
      "image/png": "[encoded data removed]",
      "text/plain": [
       "<Figure size 640x480 with 1 Axes>"
      ]
     },
     "metadata": {},
     "output_type": "display_data"
    }
   ],
   "source": [
    "hetero = atoms.select('not water and not protein')\n",
    "showProtein(hetero)"
   ]
  },
  {
   "cell_type": "code",
   "execution_count": 13,
   "metadata": {},
   "outputs": [],
   "source": [
    "ligands = hetero.getHierView().iterResidues()\n",
    "list_ligs = []\n",
    "list_of_ligs = []\n",
    "for i, residue in enumerate(ligands, start=1):\n",
    "    list_of_ligs.append(i)\n",
    "    list_ligs.append(str(residue))\n",
    "    writePDB(f'{str(best_pdb_id)}_ligand_{i}', residue)"
   ]
  },
  {
   "cell_type": "code",
   "execution_count": 14,
   "metadata": {},
   "outputs": [
    {
     "data": {
      "text/plain": [
       "['PP2 1']"
      ]
     },
     "execution_count": 14,
     "metadata": {},
     "output_type": "execute_result"
    }
   ],
   "source": [
    "list_of_ligs\n",
    "list_ligs"
   ]
  },
  {
   "cell_type": "code",
   "execution_count": 15,
   "metadata": {},
   "outputs": [],
   "source": [
    "for i in list_of_ligs:\n",
    "    run_openbabel(input_file=f'{str(best_pdb_id)}_ligand_{i}.pdb', input_format='pdb', output_file=f'{str(best_pdb_id)}_ligand_{i}.smi', output_format='smi')\n",
    "    "
   ]
  },
  {
   "cell_type": "code",
   "execution_count": 16,
   "metadata": {},
   "outputs": [],
   "source": [
    "smiles_l = []\n",
    "for i in list_of_ligs:    \n",
    "    with open(f'{str(best_pdb_id)}_ligand_{i}.smi', 'r') as file:\n",
    "        content = file.read()\n",
    "        smiles, filename = content.split()\n",
    "        smiles_l.append(smiles)\n",
    "\n"
   ]
  },
  {
   "cell_type": "code",
   "execution_count": 17,
   "metadata": {},
   "outputs": [
    {
     "data": {
      "text/plain": [
       "['c12ncnc(c1c(nn2C(C)(C)C)c1ccc(cc1)Cl)N']"
      ]
     },
     "execution_count": 17,
     "metadata": {},
     "output_type": "execute_result"
    }
   ],
   "source": [
    "smiles_l"
   ]
  },
  {
   "cell_type": "code",
   "execution_count": 18,
   "metadata": {},
   "outputs": [
    {
     "data": {
      "text/plain": [
       "{'PP2 1': 'c12ncnc(c1c(nn2C(C)(C)C)c1ccc(cc1)Cl)N'}"
      ]
     },
     "execution_count": 18,
     "metadata": {},
     "output_type": "execute_result"
    }
   ],
   "source": [
    "smile_dict = dict(zip(list_ligs, smiles_l))\n",
    "smile_dict"
   ]
  },
  {
   "cell_type": "code",
   "execution_count": 19,
   "metadata": {},
   "outputs": [
    {
     "data": {
      "text/plain": [
       "dict_values(['c12ncnc(c1c(nn2C(C)(C)C)c1ccc(cc1)Cl)N'])"
      ]
     },
     "execution_count": 19,
     "metadata": {},
     "output_type": "execute_result"
    }
   ],
   "source": [
    "smile_dict.values()"
   ]
  },
  {
   "cell_type": "code",
   "execution_count": 22,
   "metadata": {},
   "outputs": [
    {
     "name": "stdout",
     "output_type": "stream",
     "text": [
      "No results for radio button index 4. Moving on...\n",
      "No results for radio button index 7. Moving on...\n",
      "No results for radio button index 14. Moving on...\n",
      "No results for radio button index 17. Moving on...\n",
      "No results for radio button index 19. Moving on...\n",
      "No results for radio button index 24. Moving on...\n",
      "No results for radio button index 27. Moving on...\n"
     ]
    }
   ],
   "source": [
    "data = webScrape(smile_dict['PP2 1'])"
   ]
  },
  {
   "cell_type": "code",
   "execution_count": 24,
   "metadata": {},
   "outputs": [
    {
     "data": {
      "text/html": [
       "<div>\n",
       "<style scoped>\n",
       "    .dataframe tbody tr th:only-of-type {\n",
       "        vertical-align: middle;\n",
       "    }\n",
       "\n",
       "    .dataframe tbody tr th {\n",
       "        vertical-align: top;\n",
       "    }\n",
       "\n",
       "    .dataframe thead th {\n",
       "        text-align: right;\n",
       "    }\n",
       "</style>\n",
       "<table border=\"1\" class=\"dataframe\">\n",
       "  <thead>\n",
       "    <tr style=\"text-align: right;\">\n",
       "      <th></th>\n",
       "      <th>SMILES_ID</th>\n",
       "      <th>SMILES_data</th>\n",
       "      <th>Molecule_ID</th>\n",
       "      <th>Score</th>\n",
       "    </tr>\n",
       "  </thead>\n",
       "  <tbody>\n",
       "    <tr>\n",
       "      <th>313</th>\n",
       "      <td>CHEMBL16293</td>\n",
       "      <td>C1=CC2=CC=CC=C2C=C1</td>\n",
       "      <td>CHEMBL16293</td>\n",
       "      <td>0.997</td>\n",
       "    </tr>\n",
       "    <tr>\n",
       "      <th>314</th>\n",
       "      <td>CHEMBL16293</td>\n",
       "      <td>C1=CC2=CC=CC=C2C=C1</td>\n",
       "      <td>CHEMBL9113</td>\n",
       "      <td>0.973</td>\n",
       "    </tr>\n",
       "    <tr>\n",
       "      <th>87</th>\n",
       "      <td>DB11558</td>\n",
       "      <td>CC1=CC=CC=C1</td>\n",
       "      <td>DB11558</td>\n",
       "      <td>0.973</td>\n",
       "    </tr>\n",
       "    <tr>\n",
       "      <th>231</th>\n",
       "      <td>CHEMBL46730</td>\n",
       "      <td>C1=CC2=C(C=C1)C1=C(C=CC=C1)C=C2</td>\n",
       "      <td>CHEMBL16293</td>\n",
       "      <td>0.857</td>\n",
       "    </tr>\n",
       "    <tr>\n",
       "      <th>230</th>\n",
       "      <td>CHEMBL46730</td>\n",
       "      <td>C1=CC2=C(C=C1)C1=C(C=CC=C1)C=C2</td>\n",
       "      <td>CHEMBL46730</td>\n",
       "      <td>0.857</td>\n",
       "    </tr>\n",
       "    <tr>\n",
       "      <th>...</th>\n",
       "      <td>...</td>\n",
       "      <td>...</td>\n",
       "      <td>...</td>\n",
       "      <td>...</td>\n",
       "    </tr>\n",
       "    <tr>\n",
       "      <th>305</th>\n",
       "      <td>CHEMBL498623</td>\n",
       "      <td>OC(=O)CC[C@H](NC(=O)N[C@@H](CCCCNC(=O)NC1=CC=C...</td>\n",
       "      <td>CHEMBL3544919</td>\n",
       "      <td>None</td>\n",
       "    </tr>\n",
       "    <tr>\n",
       "      <th>306</th>\n",
       "      <td>CHEMBL4297413</td>\n",
       "      <td>FC(F)(F)C(C(F)(F)F)(C(F)(F)F)C1(F)C(F)(F)C(F)(...</td>\n",
       "      <td>CHEMBL4297413</td>\n",
       "      <td>None</td>\n",
       "    </tr>\n",
       "    <tr>\n",
       "      <th>307</th>\n",
       "      <td>CHEMBL4297413</td>\n",
       "      <td>FC(F)(F)C(C(F)(F)F)(C(F)(F)F)C1(F)C(F)(F)C(F)(...</td>\n",
       "      <td>CHEMBL4297283</td>\n",
       "      <td>None</td>\n",
       "    </tr>\n",
       "    <tr>\n",
       "      <th>308</th>\n",
       "      <td>CHEMBL4297413</td>\n",
       "      <td>FC(F)(F)C(C(F)(F)F)(C(F)(F)F)C1(F)C(F)(F)C(F)(...</td>\n",
       "      <td>CHEMBL3786673</td>\n",
       "      <td>None</td>\n",
       "    </tr>\n",
       "    <tr>\n",
       "      <th>309</th>\n",
       "      <td>CHEMBL4297413</td>\n",
       "      <td>FC(F)(F)C(C(F)(F)F)(C(F)(F)F)C1(F)C(F)(F)C(F)(...</td>\n",
       "      <td>CHEMBL420741</td>\n",
       "      <td>None</td>\n",
       "    </tr>\n",
       "  </tbody>\n",
       "</table>\n",
       "<p>315 rows × 4 columns</p>\n",
       "</div>"
      ],
      "text/plain": [
       "         SMILES_ID  ...  Score\n",
       "313    CHEMBL16293  ...  0.997\n",
       "314    CHEMBL16293  ...  0.973\n",
       "87         DB11558  ...  0.973\n",
       "231    CHEMBL46730  ...  0.857\n",
       "230    CHEMBL46730  ...  0.857\n",
       "..             ...  ...    ...\n",
       "305   CHEMBL498623  ...   None\n",
       "306  CHEMBL4297413  ...   None\n",
       "307  CHEMBL4297413  ...   None\n",
       "308  CHEMBL4297413  ...   None\n",
       "309  CHEMBL4297413  ...   None\n",
       "\n",
       "[315 rows x 4 columns]"
      ]
     },
     "execution_count": 24,
     "metadata": {},
     "output_type": "execute_result"
    }
   ],
   "source": [
    "df_drugs = pd.DataFrame(data)\n",
    "df_sorted = df_drugs.sort_values(by='Score', ascending=False)\n",
    "\n",
    "df_sorted"
   ]
  },
  {
   "cell_type": "code",
   "execution_count": 25,
   "metadata": {},
   "outputs": [],
   "source": [
    "df_drugsFriltered = df_sorted[df_sorted['Score'].astype(float) >= 0.5]"
   ]
  },
  {
   "cell_type": "code",
   "execution_count": 26,
   "metadata": {},
   "outputs": [
    {
     "data": {
      "text/html": [
       "<div>\n",
       "<style scoped>\n",
       "    .dataframe tbody tr th:only-of-type {\n",
       "        vertical-align: middle;\n",
       "    }\n",
       "\n",
       "    .dataframe tbody tr th {\n",
       "        vertical-align: top;\n",
       "    }\n",
       "\n",
       "    .dataframe thead th {\n",
       "        text-align: right;\n",
       "    }\n",
       "</style>\n",
       "<table border=\"1\" class=\"dataframe\">\n",
       "  <thead>\n",
       "    <tr style=\"text-align: right;\">\n",
       "      <th></th>\n",
       "      <th>SMILES_ID</th>\n",
       "      <th>SMILES_data</th>\n",
       "      <th>Molecule_ID</th>\n",
       "      <th>Score</th>\n",
       "    </tr>\n",
       "  </thead>\n",
       "  <tbody>\n",
       "    <tr>\n",
       "      <th>313</th>\n",
       "      <td>CHEMBL16293</td>\n",
       "      <td>C1=CC2=CC=CC=C2C=C1</td>\n",
       "      <td>CHEMBL16293</td>\n",
       "      <td>0.997</td>\n",
       "    </tr>\n",
       "    <tr>\n",
       "      <th>314</th>\n",
       "      <td>CHEMBL16293</td>\n",
       "      <td>C1=CC2=CC=CC=C2C=C1</td>\n",
       "      <td>CHEMBL9113</td>\n",
       "      <td>0.973</td>\n",
       "    </tr>\n",
       "    <tr>\n",
       "      <th>87</th>\n",
       "      <td>DB11558</td>\n",
       "      <td>CC1=CC=CC=C1</td>\n",
       "      <td>DB11558</td>\n",
       "      <td>0.973</td>\n",
       "    </tr>\n",
       "    <tr>\n",
       "      <th>231</th>\n",
       "      <td>CHEMBL46730</td>\n",
       "      <td>C1=CC2=C(C=C1)C1=C(C=CC=C1)C=C2</td>\n",
       "      <td>CHEMBL16293</td>\n",
       "      <td>0.857</td>\n",
       "    </tr>\n",
       "    <tr>\n",
       "      <th>230</th>\n",
       "      <td>CHEMBL46730</td>\n",
       "      <td>C1=CC2=C(C=C1)C1=C(C=CC=C1)C=C2</td>\n",
       "      <td>CHEMBL46730</td>\n",
       "      <td>0.857</td>\n",
       "    </tr>\n",
       "    <tr>\n",
       "      <th>1</th>\n",
       "      <td>DB11558</td>\n",
       "      <td>CC1=CC=CC=C1</td>\n",
       "      <td>DB06728</td>\n",
       "      <td>0.500</td>\n",
       "    </tr>\n",
       "    <tr>\n",
       "      <th>232</th>\n",
       "      <td>CHEMBL46730</td>\n",
       "      <td>C1=CC2=C(C=C1)C1=C(C=CC=C1)C=C2</td>\n",
       "      <td>CHEMBL9113</td>\n",
       "      <td>0.500</td>\n",
       "    </tr>\n",
       "    <tr>\n",
       "      <th>88</th>\n",
       "      <td>CHEMBL14060</td>\n",
       "      <td>OC1=CC=CC=C1</td>\n",
       "      <td>CHEMBL14060</td>\n",
       "      <td>0.500</td>\n",
       "    </tr>\n",
       "    <tr>\n",
       "      <th>0</th>\n",
       "      <td>DB11558</td>\n",
       "      <td>CC1=CC=CC=C1</td>\n",
       "      <td>DB11558</td>\n",
       "      <td>0.500</td>\n",
       "    </tr>\n",
       "    <tr>\n",
       "      <th>2</th>\n",
       "      <td>DB11558</td>\n",
       "      <td>CC1=CC=CC=C1</td>\n",
       "      <td>DB03255</td>\n",
       "      <td>0.500</td>\n",
       "    </tr>\n",
       "  </tbody>\n",
       "</table>\n",
       "</div>"
      ],
      "text/plain": [
       "       SMILES_ID                      SMILES_data  Molecule_ID  Score\n",
       "313  CHEMBL16293              C1=CC2=CC=CC=C2C=C1  CHEMBL16293  0.997\n",
       "314  CHEMBL16293              C1=CC2=CC=CC=C2C=C1   CHEMBL9113  0.973\n",
       "87       DB11558                     CC1=CC=CC=C1      DB11558  0.973\n",
       "231  CHEMBL46730  C1=CC2=C(C=C1)C1=C(C=CC=C1)C=C2  CHEMBL16293  0.857\n",
       "230  CHEMBL46730  C1=CC2=C(C=C1)C1=C(C=CC=C1)C=C2  CHEMBL46730  0.857\n",
       "1        DB11558                     CC1=CC=CC=C1      DB06728  0.500\n",
       "232  CHEMBL46730  C1=CC2=C(C=C1)C1=C(C=CC=C1)C=C2   CHEMBL9113  0.500\n",
       "88   CHEMBL14060                     OC1=CC=CC=C1  CHEMBL14060  0.500\n",
       "0        DB11558                     CC1=CC=CC=C1      DB11558  0.500\n",
       "2        DB11558                     CC1=CC=CC=C1      DB03255  0.500"
      ]
     },
     "execution_count": 26,
     "metadata": {},
     "output_type": "execute_result"
    }
   ],
   "source": [
    "df_drugsFriltered"
   ]
  },
  {
   "cell_type": "code",
   "execution_count": null,
   "metadata": {},
   "outputs": [],
   "source": []
  }
 ],
 "metadata": {
  "kernelspec": {
   "display_name": "Python 3",
   "language": "python",
   "name": "python3"
  },
  "language_info": {
   "codemirror_mode": {
    "name": "ipython",
    "version": 3
   },
   "file_extension": ".py",
   "mimetype": "text/x-python",
   "name": "python",
   "nbconvert_exporter": "python",
   "pygments_lexer": "ipython3",
   "version": "3.10.12"
  }
 },
 "nbformat": 4,
 "nbformat_minor": 0
}
